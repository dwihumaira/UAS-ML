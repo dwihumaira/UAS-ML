{
 "cells": [
  {
   "cell_type": "markdown",
   "id": "fce7f479",
   "metadata": {},
   "source": [
    "# IMPORT LIBRARY"
   ]
  },
  {
   "cell_type": "code",
   "execution_count": 88,
   "id": "0601f485",
   "metadata": {},
   "outputs": [],
   "source": [
    "import pandas as apis #untuk memenipulasi data\n",
    "import numpy as np #Untuk operasi numerik\n",
    "import matplotlib.pyplot as plt #Untuk Visualisasi dan grafik data"
   ]
  },
  {
   "cell_type": "code",
   "execution_count": 89,
   "id": "2425ed5b",
   "metadata": {},
   "outputs": [
    {
     "data": {
      "text/html": [
       "<div>\n",
       "<style scoped>\n",
       "    .dataframe tbody tr th:only-of-type {\n",
       "        vertical-align: middle;\n",
       "    }\n",
       "\n",
       "    .dataframe tbody tr th {\n",
       "        vertical-align: top;\n",
       "    }\n",
       "\n",
       "    .dataframe thead th {\n",
       "        text-align: right;\n",
       "    }\n",
       "</style>\n",
       "<table border=\"1\" class=\"dataframe\">\n",
       "  <thead>\n",
       "    <tr style=\"text-align: right;\">\n",
       "      <th></th>\n",
       "      <th>SL No</th>\n",
       "      <th>DISTRICT</th>\n",
       "      <th>SEVERE_MENTAL_DISORDER_(SMD)</th>\n",
       "      <th>COMMON_MENTAL _DISORDER(CMD)</th>\n",
       "      <th>ALCOHOL_&amp;_SUBSTANCE_ABUSE</th>\n",
       "      <th>CASES_REFERRED_TO_HIGHER_CENTRES</th>\n",
       "      <th>SUICIDE_ATTEMPT_CASES</th>\n",
       "      <th>Others</th>\n",
       "      <th>Total</th>\n",
       "    </tr>\n",
       "  </thead>\n",
       "  <tbody>\n",
       "    <tr>\n",
       "      <th>0</th>\n",
       "      <td>1</td>\n",
       "      <td>BAGALKOTE</td>\n",
       "      <td>1479</td>\n",
       "      <td>2936</td>\n",
       "      <td>55</td>\n",
       "      <td>13</td>\n",
       "      <td>39</td>\n",
       "      <td>5804</td>\n",
       "      <td>10326</td>\n",
       "    </tr>\n",
       "    <tr>\n",
       "      <th>1</th>\n",
       "      <td>2</td>\n",
       "      <td>BANGALORE RURAL</td>\n",
       "      <td>767</td>\n",
       "      <td>1856</td>\n",
       "      <td>302</td>\n",
       "      <td>437</td>\n",
       "      <td>6</td>\n",
       "      <td>2916</td>\n",
       "      <td>6284</td>\n",
       "    </tr>\n",
       "    <tr>\n",
       "      <th>2</th>\n",
       "      <td>3</td>\n",
       "      <td>BANGALORE URBAN</td>\n",
       "      <td>6943</td>\n",
       "      <td>17672</td>\n",
       "      <td>1352</td>\n",
       "      <td>513</td>\n",
       "      <td>558</td>\n",
       "      <td>8417</td>\n",
       "      <td>35308</td>\n",
       "    </tr>\n",
       "    <tr>\n",
       "      <th>3</th>\n",
       "      <td>4</td>\n",
       "      <td>BELGAUM</td>\n",
       "      <td>4595</td>\n",
       "      <td>6642</td>\n",
       "      <td>1870</td>\n",
       "      <td>420</td>\n",
       "      <td>200</td>\n",
       "      <td>13684</td>\n",
       "      <td>27411</td>\n",
       "    </tr>\n",
       "    <tr>\n",
       "      <th>4</th>\n",
       "      <td>5</td>\n",
       "      <td>BELLARY</td>\n",
       "      <td>4861</td>\n",
       "      <td>13340</td>\n",
       "      <td>2601</td>\n",
       "      <td>27</td>\n",
       "      <td>694</td>\n",
       "      <td>12070</td>\n",
       "      <td>33593</td>\n",
       "    </tr>\n",
       "    <tr>\n",
       "      <th>5</th>\n",
       "      <td>6</td>\n",
       "      <td>BIDAR</td>\n",
       "      <td>628</td>\n",
       "      <td>661</td>\n",
       "      <td>719</td>\n",
       "      <td>215</td>\n",
       "      <td>6</td>\n",
       "      <td>493</td>\n",
       "      <td>2722</td>\n",
       "    </tr>\n",
       "    <tr>\n",
       "      <th>6</th>\n",
       "      <td>7</td>\n",
       "      <td>BIJAPUR</td>\n",
       "      <td>826</td>\n",
       "      <td>727</td>\n",
       "      <td>146</td>\n",
       "      <td>1</td>\n",
       "      <td>0</td>\n",
       "      <td>3283</td>\n",
       "      <td>4983</td>\n",
       "    </tr>\n",
       "    <tr>\n",
       "      <th>7</th>\n",
       "      <td>8</td>\n",
       "      <td>CHAMRAJNAGAR</td>\n",
       "      <td>3929</td>\n",
       "      <td>5215</td>\n",
       "      <td>506</td>\n",
       "      <td>24</td>\n",
       "      <td>13</td>\n",
       "      <td>7850</td>\n",
       "      <td>17537</td>\n",
       "    </tr>\n",
       "    <tr>\n",
       "      <th>8</th>\n",
       "      <td>9</td>\n",
       "      <td>CHIKKABALLAPUR</td>\n",
       "      <td>3146</td>\n",
       "      <td>6549</td>\n",
       "      <td>2921</td>\n",
       "      <td>127</td>\n",
       "      <td>536</td>\n",
       "      <td>9559</td>\n",
       "      <td>22838</td>\n",
       "    </tr>\n",
       "    <tr>\n",
       "      <th>9</th>\n",
       "      <td>10</td>\n",
       "      <td>CHIKMAGALUR</td>\n",
       "      <td>1764</td>\n",
       "      <td>1520</td>\n",
       "      <td>302</td>\n",
       "      <td>486</td>\n",
       "      <td>0</td>\n",
       "      <td>1999</td>\n",
       "      <td>6071</td>\n",
       "    </tr>\n",
       "    <tr>\n",
       "      <th>10</th>\n",
       "      <td>11</td>\n",
       "      <td>CHITRADURGA</td>\n",
       "      <td>1570</td>\n",
       "      <td>4513</td>\n",
       "      <td>673</td>\n",
       "      <td>420</td>\n",
       "      <td>332</td>\n",
       "      <td>3387</td>\n",
       "      <td>10895</td>\n",
       "    </tr>\n",
       "    <tr>\n",
       "      <th>11</th>\n",
       "      <td>12</td>\n",
       "      <td>DAKSHINA KANNADA</td>\n",
       "      <td>2664</td>\n",
       "      <td>3250</td>\n",
       "      <td>1273</td>\n",
       "      <td>2492</td>\n",
       "      <td>188</td>\n",
       "      <td>11959</td>\n",
       "      <td>21826</td>\n",
       "    </tr>\n",
       "    <tr>\n",
       "      <th>12</th>\n",
       "      <td>13</td>\n",
       "      <td>DAVANAGERE</td>\n",
       "      <td>9208</td>\n",
       "      <td>8124</td>\n",
       "      <td>1709</td>\n",
       "      <td>187</td>\n",
       "      <td>881</td>\n",
       "      <td>8289</td>\n",
       "      <td>28398</td>\n",
       "    </tr>\n",
       "    <tr>\n",
       "      <th>13</th>\n",
       "      <td>14</td>\n",
       "      <td>DHARWAD</td>\n",
       "      <td>2093</td>\n",
       "      <td>5532</td>\n",
       "      <td>72</td>\n",
       "      <td>11</td>\n",
       "      <td>100</td>\n",
       "      <td>4120</td>\n",
       "      <td>11928</td>\n",
       "    </tr>\n",
       "    <tr>\n",
       "      <th>14</th>\n",
       "      <td>15</td>\n",
       "      <td>GADAG</td>\n",
       "      <td>2791</td>\n",
       "      <td>3502</td>\n",
       "      <td>624</td>\n",
       "      <td>59</td>\n",
       "      <td>26</td>\n",
       "      <td>6826</td>\n",
       "      <td>13828</td>\n",
       "    </tr>\n",
       "    <tr>\n",
       "      <th>15</th>\n",
       "      <td>16</td>\n",
       "      <td>GULBARGA</td>\n",
       "      <td>1423</td>\n",
       "      <td>899</td>\n",
       "      <td>611</td>\n",
       "      <td>155</td>\n",
       "      <td>123</td>\n",
       "      <td>2716</td>\n",
       "      <td>5927</td>\n",
       "    </tr>\n",
       "    <tr>\n",
       "      <th>16</th>\n",
       "      <td>17</td>\n",
       "      <td>HASSAN</td>\n",
       "      <td>728</td>\n",
       "      <td>4548</td>\n",
       "      <td>1705</td>\n",
       "      <td>1698</td>\n",
       "      <td>511</td>\n",
       "      <td>1638</td>\n",
       "      <td>10828</td>\n",
       "    </tr>\n",
       "    <tr>\n",
       "      <th>17</th>\n",
       "      <td>18</td>\n",
       "      <td>HAVERI</td>\n",
       "      <td>4978</td>\n",
       "      <td>4783</td>\n",
       "      <td>1482</td>\n",
       "      <td>16</td>\n",
       "      <td>728</td>\n",
       "      <td>6525</td>\n",
       "      <td>18512</td>\n",
       "    </tr>\n",
       "    <tr>\n",
       "      <th>18</th>\n",
       "      <td>19</td>\n",
       "      <td>KODAGU</td>\n",
       "      <td>744</td>\n",
       "      <td>1230</td>\n",
       "      <td>364</td>\n",
       "      <td>48</td>\n",
       "      <td>168</td>\n",
       "      <td>2544</td>\n",
       "      <td>5098</td>\n",
       "    </tr>\n",
       "    <tr>\n",
       "      <th>19</th>\n",
       "      <td>20</td>\n",
       "      <td>KOLAR</td>\n",
       "      <td>2205</td>\n",
       "      <td>3164</td>\n",
       "      <td>836</td>\n",
       "      <td>324</td>\n",
       "      <td>23</td>\n",
       "      <td>3938</td>\n",
       "      <td>10490</td>\n",
       "    </tr>\n",
       "    <tr>\n",
       "      <th>20</th>\n",
       "      <td>21</td>\n",
       "      <td>KOPPAL</td>\n",
       "      <td>3008</td>\n",
       "      <td>7693</td>\n",
       "      <td>841</td>\n",
       "      <td>2</td>\n",
       "      <td>58</td>\n",
       "      <td>6002</td>\n",
       "      <td>17604</td>\n",
       "    </tr>\n",
       "    <tr>\n",
       "      <th>21</th>\n",
       "      <td>22</td>\n",
       "      <td>MANDYA</td>\n",
       "      <td>2693</td>\n",
       "      <td>6037</td>\n",
       "      <td>874</td>\n",
       "      <td>47</td>\n",
       "      <td>114</td>\n",
       "      <td>8194</td>\n",
       "      <td>17959</td>\n",
       "    </tr>\n",
       "    <tr>\n",
       "      <th>22</th>\n",
       "      <td>23</td>\n",
       "      <td>MYSORE</td>\n",
       "      <td>1262</td>\n",
       "      <td>2566</td>\n",
       "      <td>4184</td>\n",
       "      <td>172</td>\n",
       "      <td>797</td>\n",
       "      <td>821</td>\n",
       "      <td>9802</td>\n",
       "    </tr>\n",
       "    <tr>\n",
       "      <th>23</th>\n",
       "      <td>24</td>\n",
       "      <td>RAICHUR</td>\n",
       "      <td>3872</td>\n",
       "      <td>9600</td>\n",
       "      <td>3293</td>\n",
       "      <td>118</td>\n",
       "      <td>9</td>\n",
       "      <td>3979</td>\n",
       "      <td>20871</td>\n",
       "    </tr>\n",
       "    <tr>\n",
       "      <th>24</th>\n",
       "      <td>25</td>\n",
       "      <td>RAMANAGAR</td>\n",
       "      <td>800</td>\n",
       "      <td>1447</td>\n",
       "      <td>147</td>\n",
       "      <td>5</td>\n",
       "      <td>96</td>\n",
       "      <td>2840</td>\n",
       "      <td>5335</td>\n",
       "    </tr>\n",
       "    <tr>\n",
       "      <th>25</th>\n",
       "      <td>26</td>\n",
       "      <td>SHIVAMOGGA</td>\n",
       "      <td>3324</td>\n",
       "      <td>8261</td>\n",
       "      <td>1302</td>\n",
       "      <td>340</td>\n",
       "      <td>107</td>\n",
       "      <td>4450</td>\n",
       "      <td>17784</td>\n",
       "    </tr>\n",
       "    <tr>\n",
       "      <th>26</th>\n",
       "      <td>27</td>\n",
       "      <td>TUMKUR</td>\n",
       "      <td>502</td>\n",
       "      <td>22442</td>\n",
       "      <td>1432</td>\n",
       "      <td>9</td>\n",
       "      <td>145</td>\n",
       "      <td>4140</td>\n",
       "      <td>28670</td>\n",
       "    </tr>\n",
       "    <tr>\n",
       "      <th>27</th>\n",
       "      <td>28</td>\n",
       "      <td>UDUPI</td>\n",
       "      <td>3110</td>\n",
       "      <td>5085</td>\n",
       "      <td>434</td>\n",
       "      <td>12</td>\n",
       "      <td>21</td>\n",
       "      <td>7922</td>\n",
       "      <td>16584</td>\n",
       "    </tr>\n",
       "    <tr>\n",
       "      <th>28</th>\n",
       "      <td>29</td>\n",
       "      <td>UTTARA KANNADA</td>\n",
       "      <td>2886</td>\n",
       "      <td>2601</td>\n",
       "      <td>137</td>\n",
       "      <td>19</td>\n",
       "      <td>27</td>\n",
       "      <td>4411</td>\n",
       "      <td>10081</td>\n",
       "    </tr>\n",
       "    <tr>\n",
       "      <th>29</th>\n",
       "      <td>30</td>\n",
       "      <td>YADGIR</td>\n",
       "      <td>1407</td>\n",
       "      <td>2750</td>\n",
       "      <td>865</td>\n",
       "      <td>12</td>\n",
       "      <td>114</td>\n",
       "      <td>3011</td>\n",
       "      <td>8159</td>\n",
       "    </tr>\n",
       "  </tbody>\n",
       "</table>\n",
       "</div>"
      ],
      "text/plain": [
       "    SL No         DISTRICT   SEVERE_MENTAL_DISORDER_(SMD)  \\\n",
       "0       1         BAGALKOTE                          1479   \n",
       "1       2   BANGALORE RURAL                           767   \n",
       "2       3   BANGALORE URBAN                          6943   \n",
       "3       4           BELGAUM                          4595   \n",
       "4       5           BELLARY                          4861   \n",
       "5       6             BIDAR                           628   \n",
       "6       7           BIJAPUR                           826   \n",
       "7       8      CHAMRAJNAGAR                          3929   \n",
       "8       9    CHIKKABALLAPUR                          3146   \n",
       "9      10       CHIKMAGALUR                          1764   \n",
       "10     11       CHITRADURGA                          1570   \n",
       "11     12  DAKSHINA KANNADA                          2664   \n",
       "12     13        DAVANAGERE                          9208   \n",
       "13     14           DHARWAD                          2093   \n",
       "14     15             GADAG                          2791   \n",
       "15     16          GULBARGA                          1423   \n",
       "16     17            HASSAN                           728   \n",
       "17     18            HAVERI                          4978   \n",
       "18     19            KODAGU                           744   \n",
       "19     20             KOLAR                          2205   \n",
       "20     21            KOPPAL                          3008   \n",
       "21     22            MANDYA                          2693   \n",
       "22     23            MYSORE                          1262   \n",
       "23     24           RAICHUR                          3872   \n",
       "24     25         RAMANAGAR                           800   \n",
       "25     26        SHIVAMOGGA                          3324   \n",
       "26     27            TUMKUR                           502   \n",
       "27     28             UDUPI                          3110   \n",
       "28     29    UTTARA KANNADA                          2886   \n",
       "29     30            YADGIR                          1407   \n",
       "\n",
       "    COMMON_MENTAL _DISORDER(CMD)  ALCOHOL_&_SUBSTANCE_ABUSE  \\\n",
       "0                           2936                         55   \n",
       "1                           1856                        302   \n",
       "2                          17672                       1352   \n",
       "3                           6642                       1870   \n",
       "4                          13340                       2601   \n",
       "5                            661                        719   \n",
       "6                            727                        146   \n",
       "7                           5215                        506   \n",
       "8                           6549                       2921   \n",
       "9                           1520                        302   \n",
       "10                          4513                        673   \n",
       "11                          3250                       1273   \n",
       "12                          8124                       1709   \n",
       "13                          5532                         72   \n",
       "14                          3502                        624   \n",
       "15                           899                        611   \n",
       "16                          4548                       1705   \n",
       "17                          4783                       1482   \n",
       "18                          1230                        364   \n",
       "19                          3164                        836   \n",
       "20                          7693                        841   \n",
       "21                          6037                        874   \n",
       "22                          2566                       4184   \n",
       "23                          9600                       3293   \n",
       "24                          1447                        147   \n",
       "25                          8261                       1302   \n",
       "26                         22442                       1432   \n",
       "27                          5085                        434   \n",
       "28                          2601                        137   \n",
       "29                          2750                        865   \n",
       "\n",
       "    CASES_REFERRED_TO_HIGHER_CENTRES  SUICIDE_ATTEMPT_CASES  Others  Total  \n",
       "0                                 13                     39    5804  10326  \n",
       "1                                437                      6    2916   6284  \n",
       "2                                513                    558    8417  35308  \n",
       "3                                420                    200   13684  27411  \n",
       "4                                 27                    694   12070  33593  \n",
       "5                                215                      6     493   2722  \n",
       "6                                  1                      0    3283   4983  \n",
       "7                                 24                     13    7850  17537  \n",
       "8                                127                    536    9559  22838  \n",
       "9                                486                      0    1999   6071  \n",
       "10                               420                    332    3387  10895  \n",
       "11                              2492                    188   11959  21826  \n",
       "12                               187                    881    8289  28398  \n",
       "13                                11                    100    4120  11928  \n",
       "14                                59                     26    6826  13828  \n",
       "15                               155                    123    2716   5927  \n",
       "16                              1698                    511    1638  10828  \n",
       "17                                16                    728    6525  18512  \n",
       "18                                48                    168    2544   5098  \n",
       "19                               324                     23    3938  10490  \n",
       "20                                 2                     58    6002  17604  \n",
       "21                                47                    114    8194  17959  \n",
       "22                               172                    797     821   9802  \n",
       "23                               118                      9    3979  20871  \n",
       "24                                 5                     96    2840   5335  \n",
       "25                               340                    107    4450  17784  \n",
       "26                                 9                    145    4140  28670  \n",
       "27                                12                     21    7922  16584  \n",
       "28                                19                     27    4411  10081  \n",
       "29                                12                    114    3011   8159  "
      ]
     },
     "execution_count": 89,
     "metadata": {},
     "output_type": "execute_result"
    }
   ],
   "source": [
    "#Membaca data CSV menggunakan pandas\n",
    "apis = apis.read_csv(\"District_Wise_Mental_Health_Patients_2021-22.csv\")\n",
    "#menampilkan data\n",
    "apis"
   ]
  },
  {
   "cell_type": "markdown",
   "id": "bc6251f7",
   "metadata": {},
   "source": [
    "# MEMILIH DATA DARI DATASET UNTUK DIGUNAKAN SEBAGAI ATRIBUT X"
   ]
  },
  {
   "cell_type": "code",
   "execution_count": 90,
   "id": "cbe36fac",
   "metadata": {},
   "outputs": [
    {
     "data": {
      "text/html": [
       "<div>\n",
       "<style scoped>\n",
       "    .dataframe tbody tr th:only-of-type {\n",
       "        vertical-align: middle;\n",
       "    }\n",
       "\n",
       "    .dataframe tbody tr th {\n",
       "        vertical-align: top;\n",
       "    }\n",
       "\n",
       "    .dataframe thead th {\n",
       "        text-align: right;\n",
       "    }\n",
       "</style>\n",
       "<table border=\"1\" class=\"dataframe\">\n",
       "  <thead>\n",
       "    <tr style=\"text-align: right;\">\n",
       "      <th></th>\n",
       "      <th>SEVERE_MENTAL_DISORDER_(SMD)</th>\n",
       "      <th>SUICIDE_ATTEMPT_CASES</th>\n",
       "    </tr>\n",
       "  </thead>\n",
       "  <tbody>\n",
       "    <tr>\n",
       "      <th>0</th>\n",
       "      <td>1479</td>\n",
       "      <td>39</td>\n",
       "    </tr>\n",
       "    <tr>\n",
       "      <th>1</th>\n",
       "      <td>767</td>\n",
       "      <td>6</td>\n",
       "    </tr>\n",
       "    <tr>\n",
       "      <th>2</th>\n",
       "      <td>6943</td>\n",
       "      <td>558</td>\n",
       "    </tr>\n",
       "    <tr>\n",
       "      <th>3</th>\n",
       "      <td>4595</td>\n",
       "      <td>200</td>\n",
       "    </tr>\n",
       "    <tr>\n",
       "      <th>4</th>\n",
       "      <td>4861</td>\n",
       "      <td>694</td>\n",
       "    </tr>\n",
       "    <tr>\n",
       "      <th>5</th>\n",
       "      <td>628</td>\n",
       "      <td>6</td>\n",
       "    </tr>\n",
       "    <tr>\n",
       "      <th>6</th>\n",
       "      <td>826</td>\n",
       "      <td>0</td>\n",
       "    </tr>\n",
       "    <tr>\n",
       "      <th>7</th>\n",
       "      <td>3929</td>\n",
       "      <td>13</td>\n",
       "    </tr>\n",
       "    <tr>\n",
       "      <th>8</th>\n",
       "      <td>3146</td>\n",
       "      <td>536</td>\n",
       "    </tr>\n",
       "    <tr>\n",
       "      <th>9</th>\n",
       "      <td>1764</td>\n",
       "      <td>0</td>\n",
       "    </tr>\n",
       "  </tbody>\n",
       "</table>\n",
       "</div>"
      ],
      "text/plain": [
       "   SEVERE_MENTAL_DISORDER_(SMD)  SUICIDE_ATTEMPT_CASES\n",
       "0                          1479                     39\n",
       "1                           767                      6\n",
       "2                          6943                    558\n",
       "3                          4595                    200\n",
       "4                          4861                    694\n",
       "5                           628                      6\n",
       "6                           826                      0\n",
       "7                          3929                     13\n",
       "8                          3146                    536\n",
       "9                          1764                      0"
      ]
     },
     "execution_count": 90,
     "metadata": {},
     "output_type": "execute_result"
    }
   ],
   "source": [
    "#Mengambil hanya kolom \"SEVERE_MENTAL_DISORDER_(SMD)\" dan \"SUICIDE_ATTEMPT_CASES\" dari data \n",
    "apis = apis[[\"SEVERE_MENTAL_DISORDER_(SMD)\", \"SUICIDE_ATTEMPT_CASES\"]] \n",
    "#SEVERE_MENTAL_DISORDER_(SMD)=x1; SUICIDE_ATTEMPT_CASES=x2\n",
    "\n",
    "apis.head(10) #Menampilkan 10 baris pertama data"
   ]
  },
  {
   "cell_type": "markdown",
   "id": "f812b981",
   "metadata": {},
   "source": [
    "# MELIHAT RINGKASAN STATISTIK "
   ]
  },
  {
   "cell_type": "code",
   "execution_count": 91,
   "id": "3a6ca7c3",
   "metadata": {},
   "outputs": [
    {
     "data": {
      "text/html": [
       "<div>\n",
       "<style scoped>\n",
       "    .dataframe tbody tr th:only-of-type {\n",
       "        vertical-align: middle;\n",
       "    }\n",
       "\n",
       "    .dataframe tbody tr th {\n",
       "        vertical-align: top;\n",
       "    }\n",
       "\n",
       "    .dataframe thead th {\n",
       "        text-align: right;\n",
       "    }\n",
       "</style>\n",
       "<table border=\"1\" class=\"dataframe\">\n",
       "  <thead>\n",
       "    <tr style=\"text-align: right;\">\n",
       "      <th></th>\n",
       "      <th>SEVERE_MENTAL_DISORDER_(SMD)</th>\n",
       "      <th>SUICIDE_ATTEMPT_CASES</th>\n",
       "    </tr>\n",
       "  </thead>\n",
       "  <tbody>\n",
       "    <tr>\n",
       "      <th>count</th>\n",
       "      <td>30.000000</td>\n",
       "      <td>30.000000</td>\n",
       "    </tr>\n",
       "    <tr>\n",
       "      <th>mean</th>\n",
       "      <td>2673.533333</td>\n",
       "      <td>220.666667</td>\n",
       "    </tr>\n",
       "    <tr>\n",
       "      <th>std</th>\n",
       "      <td>1990.417020</td>\n",
       "      <td>271.403928</td>\n",
       "    </tr>\n",
       "    <tr>\n",
       "      <th>min</th>\n",
       "      <td>502.000000</td>\n",
       "      <td>0.000000</td>\n",
       "    </tr>\n",
       "    <tr>\n",
       "      <th>25%</th>\n",
       "      <td>1298.250000</td>\n",
       "      <td>23.750000</td>\n",
       "    </tr>\n",
       "    <tr>\n",
       "      <th>50%</th>\n",
       "      <td>2434.500000</td>\n",
       "      <td>110.500000</td>\n",
       "    </tr>\n",
       "    <tr>\n",
       "      <th>75%</th>\n",
       "      <td>3279.500000</td>\n",
       "      <td>299.000000</td>\n",
       "    </tr>\n",
       "    <tr>\n",
       "      <th>max</th>\n",
       "      <td>9208.000000</td>\n",
       "      <td>881.000000</td>\n",
       "    </tr>\n",
       "  </tbody>\n",
       "</table>\n",
       "</div>"
      ],
      "text/plain": [
       "       SEVERE_MENTAL_DISORDER_(SMD)  SUICIDE_ATTEMPT_CASES\n",
       "count                     30.000000              30.000000\n",
       "mean                    2673.533333             220.666667\n",
       "std                     1990.417020             271.403928\n",
       "min                      502.000000               0.000000\n",
       "25%                     1298.250000              23.750000\n",
       "50%                     2434.500000             110.500000\n",
       "75%                     3279.500000             299.000000\n",
       "max                     9208.000000             881.000000"
      ]
     },
     "execution_count": 91,
     "metadata": {},
     "output_type": "execute_result"
    }
   ],
   "source": [
    "apis.describe() #Menampilkan deskripsi dari data "
   ]
  },
  {
   "cell_type": "code",
   "execution_count": 106,
   "id": "40feeb66",
   "metadata": {},
   "outputs": [
    {
     "data": {
      "image/png": "[encoded data removed]",
      "text/plain": [
       "<Figure size 640x480 with 1 Axes>"
      ]
     },
     "metadata": {},
     "output_type": "display_data"
    }
   ],
   "source": [
    "#Membuat subplot\n",
    "fig, ax = plt.subplots()\n",
    "#Membuat boxplot dengan menampilkan rata-rata, \n",
    "#garis median, dan warna yang ditentukan\n",
    "ax.boxplot(apis,\n",
    "          vert = False, #mengatur orientasi boxplot menjadi horizontal\n",
    "          showmeans = True, #menunjukkan garis rata-rata\n",
    "          meanline = True, #menunjukkan garis rata-rata sebagai garis terpisah\n",
    "          labels = (\"SEVERE_MENTAL_DISORDER_(SMD)\", \"SUICIDE_ATTEMPT_CASES\"),\n",
    "          patch_artist = True, #mengizinkan kotak untuk diisi warna\n",
    "          medianprops = {\"linewidth\" : 2, \"color\" : \"orange\"}, #warna garis median\n",
    "          meanprops = {\"linewidth\" : 2, \"color\" : \"green\"}) #warna garis rata-rata\n",
    "# Menampilkan boxplot\n",
    "plt.show()"
   ]
  },
  {
   "cell_type": "markdown",
   "id": "c8587e31",
   "metadata": {},
   "source": [
    "# BUANG OUTLIER"
   ]
  },
  {
   "cell_type": "code",
   "execution_count": 107,
   "id": "fcfb0e31",
   "metadata": {},
   "outputs": [
    {
     "data": {
      "image/png": "[encoded data removed]",
      "text/plain": [
       "<Figure size 640x480 with 1 Axes>"
      ]
     },
     "metadata": {},
     "output_type": "display_data"
    }
   ],
   "source": [
    "#Q1, Q3, dan IQR\n",
    "kolom = [\"SEVERE_MENTAL_DISORDER_(SMD)\", \"SUICIDE_ATTEMPT_CASES\"]\n",
    "\n",
    "Q1 = apis[kolom].quantile(0.25)\n",
    "Q3 = apis[kolom].quantile(0.75)\n",
    "IQR = Q3-Q1\n",
    "#Menghitung kuartil pertama,kuartil ketiga,jangkauan antarkuartil\n",
    "apis = apis[~((apis[kolom]<(Q1 - 1.5 * IQR)) |\n",
    "              (apis[kolom]>(Q3 + 1.5 *IQR))).any(axis = 1)]\n",
    "#Menghapus outlier dari data menggunakan metode IQR\n",
    "plt.boxplot(apis[kolom])\n",
    "plt.xticks([1,2], kolom)\n",
    "plt.title(\"Outlier Setelah Dibuang\")\n",
    "plt.show()\n",
    "#Menampilkan boxplot setelah penghapusan outlier"
   ]
  },
  {
   "cell_type": "code",
   "execution_count": 108,
   "id": "dcb11167",
   "metadata": {},
   "outputs": [
    {
     "data": {
      "text/html": [
       "<div>\n",
       "<style scoped>\n",
       "    .dataframe tbody tr th:only-of-type {\n",
       "        vertical-align: middle;\n",
       "    }\n",
       "\n",
       "    .dataframe tbody tr th {\n",
       "        vertical-align: top;\n",
       "    }\n",
       "\n",
       "    .dataframe thead th {\n",
       "        text-align: right;\n",
       "    }\n",
       "</style>\n",
       "<table border=\"1\" class=\"dataframe\">\n",
       "  <thead>\n",
       "    <tr style=\"text-align: right;\">\n",
       "      <th></th>\n",
       "      <th>SEVERE_MENTAL_DISORDER_(SMD)</th>\n",
       "      <th>SUICIDE_ATTEMPT_CASES</th>\n",
       "    </tr>\n",
       "  </thead>\n",
       "  <tbody>\n",
       "    <tr>\n",
       "      <th>count</th>\n",
       "      <td>23.000000</td>\n",
       "      <td>23.000000</td>\n",
       "    </tr>\n",
       "    <tr>\n",
       "      <th>mean</th>\n",
       "      <td>2133.913043</td>\n",
       "      <td>83.260870</td>\n",
       "    </tr>\n",
       "    <tr>\n",
       "      <th>std</th>\n",
       "      <td>1190.296713</td>\n",
       "      <td>83.866895</td>\n",
       "    </tr>\n",
       "    <tr>\n",
       "      <th>min</th>\n",
       "      <td>502.000000</td>\n",
       "      <td>0.000000</td>\n",
       "    </tr>\n",
       "    <tr>\n",
       "      <th>25%</th>\n",
       "      <td>1116.500000</td>\n",
       "      <td>17.000000</td>\n",
       "    </tr>\n",
       "    <tr>\n",
       "      <th>50%</th>\n",
       "      <td>2093.000000</td>\n",
       "      <td>58.000000</td>\n",
       "    </tr>\n",
       "    <tr>\n",
       "      <th>75%</th>\n",
       "      <td>2947.000000</td>\n",
       "      <td>118.500000</td>\n",
       "    </tr>\n",
       "    <tr>\n",
       "      <th>max</th>\n",
       "      <td>4595.000000</td>\n",
       "      <td>332.000000</td>\n",
       "    </tr>\n",
       "  </tbody>\n",
       "</table>\n",
       "</div>"
      ],
      "text/plain": [
       "       SEVERE_MENTAL_DISORDER_(SMD)  SUICIDE_ATTEMPT_CASES\n",
       "count                     23.000000              23.000000\n",
       "mean                    2133.913043              83.260870\n",
       "std                     1190.296713              83.866895\n",
       "min                      502.000000               0.000000\n",
       "25%                     1116.500000              17.000000\n",
       "50%                     2093.000000              58.000000\n",
       "75%                     2947.000000             118.500000\n",
       "max                     4595.000000             332.000000"
      ]
     },
     "execution_count": 108,
     "metadata": {},
     "output_type": "execute_result"
    }
   ],
   "source": [
    "#Menampilkan ringkasan statistik dari data \n",
    "#setelah penghapusan outlier\n",
    "apis.describe()"
   ]
  },
  {
   "cell_type": "code",
   "execution_count": 109,
   "id": "8c6ef4ca",
   "metadata": {
    "scrolled": true
   },
   "outputs": [
    {
     "name": "stdout",
     "output_type": "stream",
     "text": [
      "<class 'pandas.core.frame.DataFrame'>\n",
      "Int64Index: 23 entries, 0 to 29\n",
      "Data columns (total 2 columns):\n",
      " #   Column                        Non-Null Count  Dtype\n",
      "---  ------                        --------------  -----\n",
      " 0   SEVERE_MENTAL_DISORDER_(SMD)  23 non-null     int64\n",
      " 1   SUICIDE_ATTEMPT_CASES         23 non-null     int64\n",
      "dtypes: int64(2)\n",
      "memory usage: 552.0 bytes\n"
     ]
    }
   ],
   "source": [
    "#Menampilkan informasi tentang dataset\n",
    "apis.info()"
   ]
  },
  {
   "cell_type": "markdown",
   "id": "d3987c3d",
   "metadata": {},
   "source": [
    "# MEMBUAT NILAI X"
   ]
  },
  {
   "cell_type": "code",
   "execution_count": 110,
   "id": "c982d3b8",
   "metadata": {},
   "outputs": [],
   "source": [
    "#Mengonversi dataset menjadi array numpy\n",
    "x_array = np.array(apis)"
   ]
  },
  {
   "cell_type": "markdown",
   "id": "7a7f0b3b",
   "metadata": {},
   "source": [
    "# VISUALISASI PERSEBARAN DATA"
   ]
  },
  {
   "cell_type": "code",
   "execution_count": 111,
   "id": "cc30a534",
   "metadata": {
    "scrolled": true
   },
   "outputs": [
    {
     "data": {
      "image/png": "[encoded data removed]",
      "text/plain": [
       "<Figure size 640x480 with 1 Axes>"
      ]
     },
     "metadata": {},
     "output_type": "display_data"
    }
   ],
   "source": [
    "plt.scatter(apis['SEVERE_MENTAL_DISORDER_(SMD)'], apis['SUICIDE_ATTEMPT_CASES'])\n",
    "plt.show()\n"
   ]
  },
  {
   "cell_type": "markdown",
   "id": "5c3c024e",
   "metadata": {},
   "source": [
    "# STANDARISASI"
   ]
  },
  {
   "cell_type": "code",
   "execution_count": 98,
   "id": "7b39c95f",
   "metadata": {
    "scrolled": true
   },
   "outputs": [
    {
     "data": {
      "image/png": "[encoded data removed]",
      "text/plain": [
       "<Figure size 640x480 with 1 Axes>"
      ]
     },
     "metadata": {},
     "output_type": "display_data"
    }
   ],
   "source": [
    "#Melakukan standarisasi fitur menggunakan StandardScaler\n",
    "from sklearn.preprocessing import StandardScaler\n",
    "scaler = StandardScaler()\n",
    "x_scaled = scaler.fit_transform(x_array)\n",
    "plt.scatter(x_scaled[:,0], x_scaled[:,1], s=10)\n",
    "#Menampilkan scatter plot dari data yang telah distandarisasi\n",
    "plt.show()"
   ]
  },
  {
   "cell_type": "markdown",
   "id": "17fb5ae1",
   "metadata": {},
   "source": [
    "# CEK SUM OF SQUARE ERROR DARI TIAP PEMBAGIAN JUMLAH CLUSTER"
   ]
  },
  {
   "cell_type": "code",
   "execution_count": 112,
   "id": "fcffd93b",
   "metadata": {},
   "outputs": [
    {
     "name": "stderr",
     "output_type": "stream",
     "text": [
      "C:\\Users\\dwihu\\anaconda3\\lib\\site-packages\\sklearn\\cluster\\_kmeans.py:1382: UserWarning: KMeans is known to have a memory leak on Windows with MKL, when there are less chunks than available threads. You can avoid it by setting the environment variable OMP_NUM_THREADS=1.\n",
      "  warnings.warn(\n",
      "C:\\Users\\dwihu\\anaconda3\\lib\\site-packages\\sklearn\\cluster\\_kmeans.py:1382: UserWarning: KMeans is known to have a memory leak on Windows with MKL, when there are less chunks than available threads. You can avoid it by setting the environment variable OMP_NUM_THREADS=1.\n",
      "  warnings.warn(\n",
      "C:\\Users\\dwihu\\anaconda3\\lib\\site-packages\\sklearn\\cluster\\_kmeans.py:1382: UserWarning: KMeans is known to have a memory leak on Windows with MKL, when there are less chunks than available threads. You can avoid it by setting the environment variable OMP_NUM_THREADS=1.\n",
      "  warnings.warn(\n"
     ]
    },
    {
     "name": "stdout",
     "output_type": "stream",
     "text": [
      "1 52.0\n",
      "2 30.516817225353087\n",
      "3 16.111263395941933\n"
     ]
    },
    {
     "name": "stderr",
     "output_type": "stream",
     "text": [
      "C:\\Users\\dwihu\\anaconda3\\lib\\site-packages\\sklearn\\cluster\\_kmeans.py:1382: UserWarning: KMeans is known to have a memory leak on Windows with MKL, when there are less chunks than available threads. You can avoid it by setting the environment variable OMP_NUM_THREADS=1.\n",
      "  warnings.warn(\n",
      "C:\\Users\\dwihu\\anaconda3\\lib\\site-packages\\sklearn\\cluster\\_kmeans.py:1382: UserWarning: KMeans is known to have a memory leak on Windows with MKL, when there are less chunks than available threads. You can avoid it by setting the environment variable OMP_NUM_THREADS=1.\n",
      "  warnings.warn(\n",
      "C:\\Users\\dwihu\\anaconda3\\lib\\site-packages\\sklearn\\cluster\\_kmeans.py:1382: UserWarning: KMeans is known to have a memory leak on Windows with MKL, when there are less chunks than available threads. You can avoid it by setting the environment variable OMP_NUM_THREADS=1.\n",
      "  warnings.warn(\n"
     ]
    },
    {
     "name": "stdout",
     "output_type": "stream",
     "text": [
      "4 9.637038773467484\n",
      "5 8.393897391214521\n",
      "6 7.079352963070629\n",
      "7 5.922872777110717\n",
      "8 3.662494016705237\n",
      "9 2.7146961461612933\n"
     ]
    },
    {
     "name": "stderr",
     "output_type": "stream",
     "text": [
      "C:\\Users\\dwihu\\anaconda3\\lib\\site-packages\\sklearn\\cluster\\_kmeans.py:1382: UserWarning: KMeans is known to have a memory leak on Windows with MKL, when there are less chunks than available threads. You can avoid it by setting the environment variable OMP_NUM_THREADS=1.\n",
      "  warnings.warn(\n",
      "C:\\Users\\dwihu\\anaconda3\\lib\\site-packages\\sklearn\\cluster\\_kmeans.py:1382: UserWarning: KMeans is known to have a memory leak on Windows with MKL, when there are less chunks than available threads. You can avoid it by setting the environment variable OMP_NUM_THREADS=1.\n",
      "  warnings.warn(\n",
      "C:\\Users\\dwihu\\anaconda3\\lib\\site-packages\\sklearn\\cluster\\_kmeans.py:1382: UserWarning: KMeans is known to have a memory leak on Windows with MKL, when there are less chunks than available threads. You can avoid it by setting the environment variable OMP_NUM_THREADS=1.\n",
      "  warnings.warn(\n"
     ]
    }
   ],
   "source": [
    "from sklearn.cluster import KMeans\n",
    "sse = []\n",
    "index = range(1,10)\n",
    "#Melakukan iterasi untuk nilai jumlah cluster tertentu \n",
    "#dalam KMeans clustering \n",
    "for i in index :\n",
    "    kmeans = KMeans(n_clusters = i, random_state = 0, n_init='auto')\n",
    "    kmeans.fit(x_scaled)\n",
    "    sse_ = kmeans.inertia_\n",
    "    sse.append(sse_)\n",
    "#Mencetak inertia (SSE) untuk setiap iterasi\n",
    "    print(i,sse_)"
   ]
  },
  {
   "cell_type": "code",
   "execution_count": 113,
   "id": "bfc75288",
   "metadata": {},
   "outputs": [
    {
     "data": {
      "image/png": "[encoded data removed]",
      "text/plain": [
       "<Figure size 640x480 with 1 Axes>"
      ]
     },
     "metadata": {},
     "output_type": "display_data"
    }
   ],
   "source": [
    "plt.plot(index, sse)\n",
    "plt.show()\n",
    "#Menampilkan plot SSE untuk memilih jumlah cluster yang tepat"
   ]
  },
  {
   "cell_type": "markdown",
   "id": "d54734ba",
   "metadata": {},
   "source": [
    "# MEMBUAT MODEL"
   ]
  },
  {
   "cell_type": "code",
   "execution_count": 114,
   "id": "6e9cd06b",
   "metadata": {
    "scrolled": true
   },
   "outputs": [
    {
     "name": "stderr",
     "output_type": "stream",
     "text": [
      "C:\\Users\\dwihu\\anaconda3\\lib\\site-packages\\sklearn\\cluster\\_kmeans.py:1382: UserWarning: KMeans is known to have a memory leak on Windows with MKL, when there are less chunks than available threads. You can avoid it by setting the environment variable OMP_NUM_THREADS=1.\n",
      "  warnings.warn(\n"
     ]
    },
    {
     "data": {
      "text/html": [
       "<style>#sk-container-id-5 {color: black;background-color: white;}#sk-container-id-5 pre{padding: 0;}#sk-container-id-5 div.sk-toggleable {background-color: white;}#sk-container-id-5 label.sk-toggleable__label {cursor: pointer;display: block;width: 100%;margin-bottom: 0;padding: 0.3em;box-sizing: border-box;text-align: center;}#sk-container-id-5 label.sk-toggleable__label-arrow:before {content: \"▸\";float: left;margin-right: 0.25em;color: #696969;}#sk-container-id-5 label.sk-toggleable__label-arrow:hover:before {color: black;}#sk-container-id-5 div.sk-estimator:hover label.sk-toggleable__label-arrow:before {color: black;}#sk-container-id-5 div.sk-toggleable__content {max-height: 0;max-width: 0;overflow: hidden;text-align: left;background-color: #f0f8ff;}#sk-container-id-5 div.sk-toggleable__content pre {margin: 0.2em;color: black;border-radius: 0.25em;background-color: #f0f8ff;}#sk-container-id-5 input.sk-toggleable__control:checked~div.sk-toggleable__content {max-height: 200px;max-width: 100%;overflow: auto;}#sk-container-id-5 input.sk-toggleable__control:checked~label.sk-toggleable__label-arrow:before {content: \"▾\";}#sk-container-id-5 div.sk-estimator input.sk-toggleable__control:checked~label.sk-toggleable__label {background-color: #d4ebff;}#sk-container-id-5 div.sk-label input.sk-toggleable__control:checked~label.sk-toggleable__label {background-color: #d4ebff;}#sk-container-id-5 input.sk-hidden--visually {border: 0;clip: rect(1px 1px 1px 1px);clip: rect(1px, 1px, 1px, 1px);height: 1px;margin: -1px;overflow: hidden;padding: 0;position: absolute;width: 1px;}#sk-container-id-5 div.sk-estimator {font-family: monospace;background-color: #f0f8ff;border: 1px dotted black;border-radius: 0.25em;box-sizing: border-box;margin-bottom: 0.5em;}#sk-container-id-5 div.sk-estimator:hover {background-color: #d4ebff;}#sk-container-id-5 div.sk-parallel-item::after {content: \"\";width: 100%;border-bottom: 1px solid gray;flex-grow: 1;}#sk-container-id-5 div.sk-label:hover label.sk-toggleable__label {background-color: #d4ebff;}#sk-container-id-5 div.sk-serial::before {content: \"\";position: absolute;border-left: 1px solid gray;box-sizing: border-box;top: 0;bottom: 0;left: 50%;z-index: 0;}#sk-container-id-5 div.sk-serial {display: flex;flex-direction: column;align-items: center;background-color: white;padding-right: 0.2em;padding-left: 0.2em;position: relative;}#sk-container-id-5 div.sk-item {position: relative;z-index: 1;}#sk-container-id-5 div.sk-parallel {display: flex;align-items: stretch;justify-content: center;background-color: white;position: relative;}#sk-container-id-5 div.sk-item::before, #sk-container-id-5 div.sk-parallel-item::before {content: \"\";position: absolute;border-left: 1px solid gray;box-sizing: border-box;top: 0;bottom: 0;left: 50%;z-index: -1;}#sk-container-id-5 div.sk-parallel-item {display: flex;flex-direction: column;z-index: 1;position: relative;background-color: white;}#sk-container-id-5 div.sk-parallel-item:first-child::after {align-self: flex-end;width: 50%;}#sk-container-id-5 div.sk-parallel-item:last-child::after {align-self: flex-start;width: 50%;}#sk-container-id-5 div.sk-parallel-item:only-child::after {width: 0;}#sk-container-id-5 div.sk-dashed-wrapped {border: 1px dashed gray;margin: 0 0.4em 0.5em 0.4em;box-sizing: border-box;padding-bottom: 0.4em;background-color: white;}#sk-container-id-5 div.sk-label label {font-family: monospace;font-weight: bold;display: inline-block;line-height: 1.2em;}#sk-container-id-5 div.sk-label-container {text-align: center;}#sk-container-id-5 div.sk-container {/* jupyter's `normalize.less` sets `[hidden] { display: none; }` but bootstrap.min.css set `[hidden] { display: none !important; }` so we also need the `!important` here to be able to override the default hidden behavior on the sphinx rendered scikit-learn.org. See: https://github.com/scikit-learn/scikit-learn/issues/21755 */display: inline-block !important;position: relative;}#sk-container-id-5 div.sk-text-repr-fallback {display: none;}</style><div id=\"sk-container-id-5\" class=\"sk-top-container\"><div class=\"sk-text-repr-fallback\"><pre>KMeans(n_clusters=3, n_init=&#x27;auto&#x27;, random_state=0)</pre><b>In a Jupyter environment, please rerun this cell to show the HTML representation or trust the notebook. <br />On GitHub, the HTML representation is unable to render, please try loading this page with nbviewer.org.</b></div><div class=\"sk-container\" hidden><div class=\"sk-item\"><div class=\"sk-estimator sk-toggleable\"><input class=\"sk-toggleable__control sk-hidden--visually\" id=\"sk-estimator-id-5\" type=\"checkbox\" checked><label for=\"sk-estimator-id-5\" class=\"sk-toggleable__label sk-toggleable__label-arrow\">KMeans</label><div class=\"sk-toggleable__content\"><pre>KMeans(n_clusters=3, n_init=&#x27;auto&#x27;, random_state=0)</pre></div></div></div></div></div>"
      ],
      "text/plain": [
       "KMeans(n_clusters=3, n_init='auto', random_state=0)"
      ]
     },
     "execution_count": 114,
     "metadata": {},
     "output_type": "execute_result"
    }
   ],
   "source": [
    "kmeans = KMeans (n_clusters = 3, random_state = 0, n_init='auto')\n",
    "kmeans.fit(x_scaled)\n",
    "#Melakukan KMeans clustering dengan jumlah cluster "
   ]
  },
  {
   "cell_type": "markdown",
   "id": "baf8ad0d",
   "metadata": {},
   "source": [
    "# MELIHAT CLUSTER PUSAT "
   ]
  },
  {
   "cell_type": "code",
   "execution_count": 115,
   "id": "e2eee8cd",
   "metadata": {},
   "outputs": [
    {
     "data": {
      "text/plain": [
       "array([[ 0.69251724, -0.37373918],\n",
       "       [-0.92760327, -0.06873529],\n",
       "       [ 1.41051619,  2.65484681]])"
      ]
     },
     "execution_count": 115,
     "metadata": {},
     "output_type": "execute_result"
    }
   ],
   "source": [
    "kmeans.cluster_centers_\n",
    "#Menampilkan pusat cluster"
   ]
  },
  {
   "cell_type": "markdown",
   "id": "8ba273e3",
   "metadata": {},
   "source": [
    "# VISUALISASI PERSEBARAN DATA SETELAH CLUSTERING"
   ]
  },
  {
   "cell_type": "code",
   "execution_count": 117,
   "id": "d0cd50f3",
   "metadata": {},
   "outputs": [
    {
     "data": {
      "image/png": "[encoded data removed]",
      "text/plain": [
       "<Figure size 640x480 with 1 Axes>"
      ]
     },
     "metadata": {},
     "output_type": "display_data"
    }
   ],
   "source": [
    "# output = plt.scatter(x_scaled[:,0],x_scaled[:,1], s=10, c = kmeans.labels_) #DATANYA\n",
    "# Menampilkan scatter plot hasil clustering dengan pusat cluster (centroid)\n",
    "centers = kmeans.cluster_centers_\n",
    "plt.scatter(centers[:,0], centers[:,1], c=\"green\", s=10) #centroid\n",
    "plt.title(\"KMEANS Clustering Credit Card\")\n",
    "plt.xlabel(\"SEVERE_MENTAL_DISORDER_(SMD)\")\n",
    "plt.ylabel(\"SUICIDE_ATTEMPT_CASES\")\n",
    "plt.colorbar(output)\n",
    "plt.show()\n",
    "#menampilkan bar skala warna"
   ]
  },
  {
   "cell_type": "markdown",
   "id": "688c64ba",
   "metadata": {},
   "source": [
    "# EVALUASI MODEL"
   ]
  },
  {
   "cell_type": "code",
   "execution_count": 104,
   "id": "ea030973",
   "metadata": {},
   "outputs": [
    {
     "data": {
      "text/plain": [
       "0.6740273281023863"
      ]
     },
     "execution_count": 104,
     "metadata": {},
     "output_type": "execute_result"
    }
   ],
   "source": [
    "from sklearn.metrics import davies_bouldin_score\n",
    "labels = kmeans.labels_\n",
    "davies_bouldin_score(x_scaled, labels)\n",
    "#Menghitung nilai Davies-Bouldin untuk mengevaluasi kualitas clustering"
   ]
  },
  {
   "cell_type": "markdown",
   "id": "fed9ed86",
   "metadata": {},
   "source": []
  }
 ],
 "metadata": {
  "kernelspec": {
   "display_name": "Python 3 (ipykernel)",
   "language": "python",
   "name": "python3"
  },
  "language_info": {
   "codemirror_mode": {
    "name": "ipython",
    "version": 3
   },
   "file_extension": ".py",
   "mimetype": "text/x-python",
   "name": "python",
   "nbconvert_exporter": "python",
   "pygments_lexer": "ipython3",
   "version": "3.10.9"
  }
 },
 "nbformat": 4,
 "nbformat_minor": 5
}
